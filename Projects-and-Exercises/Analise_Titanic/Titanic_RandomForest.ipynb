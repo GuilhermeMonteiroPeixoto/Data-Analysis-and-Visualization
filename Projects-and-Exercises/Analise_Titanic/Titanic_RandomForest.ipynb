{
 "cells": [
  {
   "cell_type": "markdown",
   "metadata": {},
   "source": [
    "# Titanic: Random forests with accuracy >= 90%"
   ]
  },
  {
   "cell_type": "markdown",
   "metadata": {},
   "source": [
    "    \"The RMS Titanic was a British passenger ship operated by the White Star Line and built by the Harland and Wolff shipyards in Belfast. It was the second vessel of the Olympic Class of ocean liners after the RMS Olympic and followed by the HMHS Britannic. Designed by naval engineers Alexander Carlisle and Thomas Andrews, construction began in March 1909 and it was launched into the sea in May 1911. The Titanic was thought to be the most luxurious and safest ship of its time, spawning legends it was supposed to \"unsinkable\". The vessel left on its maiden voyage from Southampton to New York on April 10, 1912, en route through Cherbourg-Octeville in France and Queenstown in Ireland. It crashed into an iceberg at 11:40 pm on April 14 and sank early in the morning with over 1,500 people on board, making it one of the largest peacetime maritime disasters in history.\" - https://en.wikipedia.org/wiki/Titanic"
   ]
  },
  {
   "cell_type": "markdown",
   "metadata": {},
   "source": [
    "In this project, we will use the dataset provided by Kaggle and raise some questions and answer them observing the pattern of the available data. It is important to note that unfortunately we do not have data on all passengers, we only have data on 891 people present on the Titanic."
   ]
  },
  {
   "cell_type": "markdown",
   "metadata": {},
   "source": [
    "Importing the libraries: Insert the libraries to be used at the top of your Python code."
   ]
  },
  {
   "cell_type": "code",
   "execution_count": 5,
   "metadata": {},
   "outputs": [],
   "source": [
    "import numpy as np\n",
    "import matplotlib.pyplot as plt\n",
    "import pandas as pd"
   ]
  },
  {
   "cell_type": "markdown",
   "metadata": {},
   "source": [
    "To read the dataset, let's execute the command below. Remembering that your file must be saved in the same folder as your Python code."
   ]
  },
  {
   "cell_type": "code",
   "execution_count": 6,
   "metadata": {},
   "outputs": [
    {
     "name": "stdout",
     "output_type": "stream",
     "text": [
      "Requirement already satisfied: seaborn in /srv/conda/envs/notebook/lib/python3.6/site-packages (0.11.0)\r\n",
      "Requirement already satisfied: numpy>=1.15 in /srv/conda/envs/notebook/lib/python3.6/site-packages (from seaborn) (1.18.5)\r\n",
      "Requirement already satisfied: matplotlib>=2.2 in /srv/conda/envs/notebook/lib/python3.6/site-packages (from seaborn) (3.2.1)\r\n",
      "Requirement already satisfied: pandas>=0.23 in /srv/conda/envs/notebook/lib/python3.6/site-packages (from seaborn) (1.0.4)\r\n",
      "Requirement already satisfied: scipy>=1.0 in /srv/conda/envs/notebook/lib/python3.6/site-packages (from seaborn) (1.4.1)\r\n",
      "Requirement already satisfied: kiwisolver>=1.0.1 in /srv/conda/envs/notebook/lib/python3.6/site-packages (from matplotlib>=2.2->seaborn) (1.2.0)\r\n",
      "Requirement already satisfied: cycler>=0.10 in /srv/conda/envs/notebook/lib/python3.6/site-packages (from matplotlib>=2.2->seaborn) (0.10.0)\r\n",
      "Requirement already satisfied: pyparsing!=2.0.4,!=2.1.2,!=2.1.6,>=2.0.1 in /srv/conda/envs/notebook/lib/python3.6/site-packages (from matplotlib>=2.2->seaborn) (2.4.7)\r\n",
      "Requirement already satisfied: python-dateutil>=2.1 in /srv/conda/envs/notebook/lib/python3.6/site-packages (from matplotlib>=2.2->seaborn) (2.8.1)\r\n",
      "Requirement already satisfied: pytz>=2017.2 in /srv/conda/envs/notebook/lib/python3.6/site-packages (from pandas>=0.23->seaborn) (2020.1)\r\n",
      "Requirement already satisfied: six in /srv/conda/envs/notebook/lib/python3.6/site-packages (from cycler>=0.10->matplotlib>=2.2->seaborn) (1.15.0)\r\n"
     ]
    }
   ],
   "source": [
    "!pip install seaborn"
   ]
  },
  {
   "cell_type": "code",
   "execution_count": 7,
   "metadata": {},
   "outputs": [],
   "source": [
    "import seaborn as sns"
   ]
  },
  {
   "cell_type": "code",
   "execution_count": 9,
   "metadata": {},
   "outputs": [],
   "source": [
    "data1 = pd.read_csv('gender_submission.csv')\n",
    "data2 = pd.read_csv('test.csv')\n",
    "data3 = pd.read_csv('train.csv')"
   ]
  },
  {
   "cell_type": "markdown",
   "metadata": {},
   "source": [
    "We realized that only 342/891 people survived."
   ]
  },
  {
   "cell_type": "code",
   "execution_count": 10,
   "metadata": {},
   "outputs": [
    {
     "name": "stdout",
     "output_type": "stream",
     "text": [
      "Sobreviventes: 342\n",
      "Mortos       : 549\n"
     ]
    }
   ],
   "source": [
    "Aux = data3['Survived'].value_counts()\n",
    "print('Sobreviventes:', Aux[1])\n",
    "print('Mortos       :', Aux[0])"
   ]
  },
  {
   "cell_type": "code",
   "execution_count": 11,
   "metadata": {},
   "outputs": [
    {
     "data": {
      "image/png": "[encoded data removed]",
      "text/plain": [
       "<Figure size 432x288 with 2 Axes>"
      ]
     },
     "metadata": {
      "needs_background": "light"
     },
     "output_type": "display_data"
    }
   ],
   "source": [
    "heat_map = sns.heatmap(data3.corr(),vmax=1, vmin=-1, center=0,\n",
    "            cmap=sns.diverging_palette(10, 220, as_cmap=True))\n",
    "plt.show()"
   ]
  },
  {
   "cell_type": "markdown",
   "metadata": {},
   "source": [
    "Through the analysis below we can draw some insights:"
   ]
  },
  {
   "cell_type": "markdown",
   "metadata": {},
   "source": [
    "The oldest crew member was 80 years old, his name was Mr. Algernon Henry Wilson, he traveled in first class and survived."
   ]
  },
  {
   "cell_type": "markdown",
   "metadata": {},
   "source": [
    "    Henry was a Justice of the Peace from Hessle, Yorkshire. He boarded the RMS Titanic at Southampton (Cabin A-23, ticket number 27042, £30)."
   ]
  },
  {
   "cell_type": "code",
   "execution_count": 12,
   "metadata": {},
   "outputs": [
    {
     "data": {
      "text/html": [
       "<div>\n",
       "<style scoped>\n",
       "    .dataframe tbody tr th:only-of-type {\n",
       "        vertical-align: middle;\n",
       "    }\n",
       "\n",
       "    .dataframe tbody tr th {\n",
       "        vertical-align: top;\n",
       "    }\n",
       "\n",
       "    .dataframe thead th {\n",
       "        text-align: right;\n",
       "    }\n",
       "</style>\n",
       "<table border=\"1\" class=\"dataframe\">\n",
       "  <thead>\n",
       "    <tr style=\"text-align: right;\">\n",
       "      <th></th>\n",
       "      <th>PassengerId</th>\n",
       "      <th>Survived</th>\n",
       "      <th>Pclass</th>\n",
       "      <th>Name</th>\n",
       "      <th>Sex</th>\n",
       "      <th>Age</th>\n",
       "      <th>SibSp</th>\n",
       "      <th>Parch</th>\n",
       "      <th>Ticket</th>\n",
       "      <th>Fare</th>\n",
       "      <th>Cabin</th>\n",
       "      <th>Embarked</th>\n",
       "    </tr>\n",
       "  </thead>\n",
       "  <tbody>\n",
       "    <tr>\n",
       "      <th>630</th>\n",
       "      <td>631</td>\n",
       "      <td>1</td>\n",
       "      <td>1</td>\n",
       "      <td>Barkworth, Mr. Algernon Henry Wilson</td>\n",
       "      <td>male</td>\n",
       "      <td>80.0</td>\n",
       "      <td>0</td>\n",
       "      <td>0</td>\n",
       "      <td>27042</td>\n",
       "      <td>30.0</td>\n",
       "      <td>A23</td>\n",
       "      <td>S</td>\n",
       "    </tr>\n",
       "  </tbody>\n",
       "</table>\n",
       "</div>"
      ],
      "text/plain": [
       "     PassengerId  Survived  Pclass                                  Name  \\\n",
       "630          631         1       1  Barkworth, Mr. Algernon Henry Wilson   \n",
       "\n",
       "      Sex   Age  SibSp  Parch Ticket  Fare Cabin Embarked  \n",
       "630  male  80.0      0      0  27042  30.0   A23        S  "
      ]
     },
     "execution_count": 12,
     "metadata": {},
     "output_type": "execute_result"
    }
   ],
   "source": [
    "data3[data3['Age']==data3['Age'].max()]"
   ]
  },
  {
   "cell_type": "markdown",
   "metadata": {},
   "source": [
    "The youngest crew member was less than 1 year old, his name was Assad Alexander, he traveled in third class and survived."
   ]
  },
  {
   "cell_type": "markdown",
   "metadata": {},
   "source": [
    "    Assad (Assed or Essed) Alexander Thomas, born 8 November 1911 in Lebanon, was 5 months of age when he boarded the Titanic. He embarked with his mother and uncle Charles at Cherbourg as a third class passenger."
   ]
  },
  {
   "cell_type": "code",
   "execution_count": 13,
   "metadata": {},
   "outputs": [
    {
     "data": {
      "text/html": [
       "<div>\n",
       "<style scoped>\n",
       "    .dataframe tbody tr th:only-of-type {\n",
       "        vertical-align: middle;\n",
       "    }\n",
       "\n",
       "    .dataframe tbody tr th {\n",
       "        vertical-align: top;\n",
       "    }\n",
       "\n",
       "    .dataframe thead th {\n",
       "        text-align: right;\n",
       "    }\n",
       "</style>\n",
       "<table border=\"1\" class=\"dataframe\">\n",
       "  <thead>\n",
       "    <tr style=\"text-align: right;\">\n",
       "      <th></th>\n",
       "      <th>PassengerId</th>\n",
       "      <th>Survived</th>\n",
       "      <th>Pclass</th>\n",
       "      <th>Name</th>\n",
       "      <th>Sex</th>\n",
       "      <th>Age</th>\n",
       "      <th>SibSp</th>\n",
       "      <th>Parch</th>\n",
       "      <th>Ticket</th>\n",
       "      <th>Fare</th>\n",
       "      <th>Cabin</th>\n",
       "      <th>Embarked</th>\n",
       "    </tr>\n",
       "  </thead>\n",
       "  <tbody>\n",
       "    <tr>\n",
       "      <th>803</th>\n",
       "      <td>804</td>\n",
       "      <td>1</td>\n",
       "      <td>3</td>\n",
       "      <td>Thomas, Master. Assad Alexander</td>\n",
       "      <td>male</td>\n",
       "      <td>0.42</td>\n",
       "      <td>0</td>\n",
       "      <td>1</td>\n",
       "      <td>2625</td>\n",
       "      <td>8.5167</td>\n",
       "      <td>NaN</td>\n",
       "      <td>C</td>\n",
       "    </tr>\n",
       "  </tbody>\n",
       "</table>\n",
       "</div>"
      ],
      "text/plain": [
       "     PassengerId  Survived  Pclass                             Name   Sex  \\\n",
       "803          804         1       3  Thomas, Master. Assad Alexander  male   \n",
       "\n",
       "      Age  SibSp  Parch Ticket    Fare Cabin Embarked  \n",
       "803  0.42      0      1   2625  8.5167   NaN        C  "
      ]
     },
     "execution_count": 13,
     "metadata": {},
     "output_type": "execute_result"
    }
   ],
   "source": [
    "data3[data3['Age']==data3['Age'].min()]"
   ]
  },
  {
   "cell_type": "code",
   "execution_count": 14,
   "metadata": {},
   "outputs": [],
   "source": [
    "Aux2 = data3[data3['Survived']==0]\n",
    "criancas_mortas = Aux2[Aux2['Age']<=18].reset_index(drop=True)"
   ]
  },
  {
   "cell_type": "markdown",
   "metadata": {},
   "source": [
    "Analyzing the number of children who survived or died, we realized that there were many children in the third class and that a large number of children in the third class did not survive. In fact, in the first and second classes the number of children killed was much less than the number of children surviving, in the third class the number of children killed was almost double the number of survivors."
   ]
  },
  {
   "cell_type": "code",
   "execution_count": 15,
   "metadata": {},
   "outputs": [
    {
     "data": {
      "image/png": "[encoded data removed]",
      "text/plain": [
       "<Figure size 432x288 with 1 Axes>"
      ]
     },
     "metadata": {
      "needs_background": "light"
     },
     "output_type": "display_data"
    }
   ],
   "source": [
    "Aux3 = data3[data3['Survived']==1]\n",
    "criancas_sobreviventes = Aux3[Aux3['Age']<18].reset_index(drop=True)\n",
    "plt.barh(('3','2','1'),criancas_mortas['Pclass'].value_counts(), edgecolor='r',label='Mortos',color=(0,0,0,0))\n",
    "plt.barh(('3','2','1'),criancas_sobreviventes['Pclass'].value_counts(), edgecolor='g',label='Sobreviventes',color=(0,0,0,0))\n",
    "plt.xlabel('Quantidade de Crianças')\n",
    "plt.ylabel('Classe')\n",
    "plt.title('Quantidade de Crianças (até 18 anos) Mortas/Sobreviventes por Classe')\n",
    "plt.legend()\n",
    "plt.show()"
   ]
  },
  {
   "cell_type": "markdown",
   "metadata": {},
   "source": [
    "For me, the Titanic metaphor can still be seen: The iceberg is before us and we have been unable to divert the ship from the collision. Although we are all on the same ship together, we know that the poor will be most affected when the ship sinks."
   ]
  },
  {
   "cell_type": "code",
   "execution_count": 16,
   "metadata": {},
   "outputs": [],
   "source": [
    "idosos_mortos = Aux2[Aux2['Age']>60].sort_values(by='Age',ascending=False).reset_index(drop=True)"
   ]
  },
  {
   "cell_type": "code",
   "execution_count": 17,
   "metadata": {},
   "outputs": [
    {
     "data": {
      "image/png": "[encoded data removed]",
      "text/plain": [
       "<Figure size 432x288 with 1 Axes>"
      ]
     },
     "metadata": {
      "needs_background": "light"
     },
     "output_type": "display_data"
    }
   ],
   "source": [
    "idosos_sobreviventes = Aux3[Aux3['Age']>60].reset_index(drop=True)\n",
    "plt.barh(('3','2','1'),idosos_mortos['Pclass'].value_counts(), edgecolor='r',label='Mortos',color=(0,0,0,0))\n",
    "plt.barh(('3','2','1'),idosos_sobreviventes['Pclass'].value_counts(), edgecolor='g',label='Sobreviventes',color=(0,0,0,0))\n",
    "plt.xlabel('Quantidade de Idosos')\n",
    "plt.ylabel('Classe')\n",
    "plt.title('Quantidade de Idosos (maior que 60 anos) Mortas/Sobreviventes por Classe')\n",
    "plt.legend()\n",
    "plt.show()"
   ]
  },
  {
   "cell_type": "markdown",
   "metadata": {},
   "source": [
    "The rule \"women and children first\" is almost always disregarded in cases of shipwreck, but this rule was respected when the Titanic sank. We can see this by looking at the graph below where 81.1% of men did not survive."
   ]
  },
  {
   "cell_type": "code",
   "execution_count": 18,
   "metadata": {},
   "outputs": [
    {
     "data": {
      "image/png": "[encoded data removed]",
      "text/plain": [
       "<Figure size 432x288 with 1 Axes>"
      ]
     },
     "metadata": {},
     "output_type": "display_data"
    }
   ],
   "source": [
    "labels = 'Sobreviventes','Mortos'\n",
    "\n",
    "var = data3.groupby(['Sex']).mean().Survived.male\n",
    "plt.pie([var,1-var],(0.0, 0.1),labels=labels,autopct='%1.1f%%')\n",
    "plt.title('Homens')\n",
    "plt.show()"
   ]
  },
  {
   "cell_type": "code",
   "execution_count": 19,
   "metadata": {},
   "outputs": [
    {
     "data": {
      "image/png": "[encoded data removed]",
      "text/plain": [
       "<Figure size 432x288 with 1 Axes>"
      ]
     },
     "metadata": {},
     "output_type": "display_data"
    }
   ],
   "source": [
    "var = data3.groupby(['Sex']).mean().Survived.female\n",
    "plt.pie([var,1-var],(0.0, 0.1),labels=labels,autopct='%1.1f%%')\n",
    "plt.title('Mulheres')\n",
    "plt.show()"
   ]
  },
  {
   "cell_type": "markdown",
   "metadata": {},
   "source": [
    "What was the age group of passengers on the Titanic? From this age group, did more children or more adults survive? \n",
    "To answer these questions we set up the histogram below and, as expected, children were a priority in removing the ship."
   ]
  },
  {
   "cell_type": "code",
   "execution_count": 20,
   "metadata": {},
   "outputs": [
    {
     "data": {
      "image/png": "[encoded data removed]",
      "text/plain": [
       "<Figure size 432x288 with 1 Axes>"
      ]
     },
     "metadata": {
      "needs_background": "light"
     },
     "output_type": "display_data"
    }
   ],
   "source": [
    "plt.hist(data3['Age'], bins = [0,10,20,30,40,50,60,70,80],histtype='step',label='Idade Tripulantes Total')\n",
    "plt.xlabel('Idade')\n",
    "plt.ylabel('Quantidade de Pessoas')\n",
    "plt.title('Histograma da Idade')\n",
    "\n",
    "aux = data3.loc[data3['Survived']<1]\n",
    "plt.hist(aux['Age'], bins = [0,10,20,30,40,50,60,70,80],histtype='step',label='Idade Tripulantes Mortos')\n",
    "\n",
    "aux = data3.loc[data3['Survived']>0]\n",
    "plt.hist(aux['Age'], bins = [0,10,20,30,40,50,60,70,80],histtype='step',label='Idade Tripulantes Sobreviventes')\n",
    "plt.legend()\n",
    "plt.show()"
   ]
  },
  {
   "cell_type": "markdown",
   "metadata": {},
   "source": [
    "Below we see the numbers of survivors in relation to social class: The distribution of passengers reflected the social stratification of the time. The first class, at the top of the boat, for the wealthiest and most influential, the second, in the middle zone, for the middle classes; the third, for poor immigrants of various nationalities. We were also able to observe that more people from the first class survived."
   ]
  },
  {
   "cell_type": "code",
   "execution_count": 21,
   "metadata": {},
   "outputs": [
    {
     "data": {
      "image/png": "[encoded data removed]",
      "text/plain": [
       "<Figure size 432x288 with 1 Axes>"
      ]
     },
     "metadata": {
      "needs_background": "light"
     },
     "output_type": "display_data"
    }
   ],
   "source": [
    "plt.bar(['1','2','3'],data3.groupby(['Pclass']).mean().Survived)\n",
    "plt.xlabel('Classes')\n",
    "plt.ylabel('Porcentagem')\n",
    "plt.title('Porcentagem de Sobreviventes por Classe')\n",
    "plt.show()"
   ]
  },
  {
   "cell_type": "markdown",
   "metadata": {},
   "source": [
    "Through the analysis above it is clear that the sex and class factor were definitive for the survival of passengers."
   ]
  },
  {
   "cell_type": "code",
   "execution_count": 22,
   "metadata": {},
   "outputs": [],
   "source": [
    "data2 = pd.merge(data2, data1, on=['PassengerId'])"
   ]
  },
  {
   "cell_type": "code",
   "execution_count": 23,
   "metadata": {},
   "outputs": [],
   "source": [
    "data2.drop(['PassengerId','Name','Ticket','Cabin','Embarked'],axis=1,inplace=True)\n",
    "data2.dropna(inplace=True)\n",
    "data2['Sex'].replace(['female','male'],[0,1],inplace=True)\n",
    "\n",
    "data3.drop(['PassengerId','Name','Ticket','Cabin','Embarked'],axis=1,inplace=True)\n",
    "data3.dropna(inplace=True)\n",
    "data3['Sex'].replace(['female','male'],[0,1],inplace=True)"
   ]
  },
  {
   "cell_type": "code",
   "execution_count": 24,
   "metadata": {},
   "outputs": [],
   "source": [
    "y_treino = data3['Survived']\n",
    "x_treino = data3.drop('Survived',axis=1)\n",
    "\n",
    "y_teste = data2['Survived']\n",
    "x_teste = data2.drop('Survived',axis=1)"
   ]
  },
  {
   "cell_type": "code",
   "execution_count": 25,
   "metadata": {},
   "outputs": [
    {
     "data": {
      "text/plain": [
       "RandomForestClassifier(max_depth=5, n_estimators=200)"
      ]
     },
     "execution_count": 25,
     "metadata": {},
     "output_type": "execute_result"
    }
   ],
   "source": [
    "from sklearn.ensemble import RandomForestClassifier\n",
    "modelo = RandomForestClassifier(n_estimators=200,max_depth=5)\n",
    "modelo.fit(x_treino,y_treino)"
   ]
  },
  {
   "cell_type": "code",
   "execution_count": 26,
   "metadata": {},
   "outputs": [
    {
     "name": "stdout",
     "output_type": "stream",
     "text": [
      "Acuracia :  0.8670694864048338\n",
      "Precisao :  0.8746101980615255\n"
     ]
    }
   ],
   "source": [
    "from sklearn.metrics import accuracy_score\n",
    "from sklearn.metrics import precision_score\n",
    "\n",
    "previsao = modelo.predict(x_teste)\n",
    "print('Acuracia : ',accuracy_score(y_teste, previsao))\n",
    "print('Precisao : ',precision_score(y_teste, previsao, average='macro'))"
   ]
  },
  {
   "cell_type": "code",
   "execution_count": 27,
   "metadata": {},
   "outputs": [],
   "source": [
    "importances = modelo.feature_importances_\n",
    "indices = np.argsort(importances)[::-1]\n",
    "variable_importance = {'importance': importances,\n",
    "            'index': indices}\n",
    "importances_modelo = variable_importance['importance']\n",
    "indices_modelo = variable_importance['index']"
   ]
  },
  {
   "cell_type": "code",
   "execution_count": 28,
   "metadata": {},
   "outputs": [],
   "source": [
    "names_index = x_teste.columns"
   ]
  },
  {
   "cell_type": "code",
   "execution_count": 29,
   "metadata": {},
   "outputs": [
    {
     "data": {
      "image/png": "[encoded data removed]",
      "text/plain": [
       "<Figure size 720x720 with 1 Axes>"
      ]
     },
     "metadata": {
      "needs_background": "light"
     },
     "output_type": "display_data"
    }
   ],
   "source": [
    "index = np.arange(len(names_index))\n",
    "importance_desc = sorted(importances)\n",
    "feature_space = []\n",
    "for i in range(indices.shape[0] - 1, -1, -1):\n",
    "    feature_space.append(names_index[indices[i]])\n",
    "fig, ax = plt.subplots(figsize=(10, 10))\n",
    "plt.title('Feature importances for Random Forest Model')\n",
    "plt.barh(index,importance_desc,align=\"center\")\n",
    "plt.yticks(index,feature_space)\n",
    "plt.xlabel('Mean Decrease in Impurity')\n",
    "plt.ylabel('Feature')\n",
    "plt.show()"
   ]
  },
  {
   "cell_type": "code",
   "execution_count": 31,
   "metadata": {},
   "outputs": [
    {
     "data": {
      "image/png": "[encoded data removed]",
      "text/plain": [
       "<Figure size 432x288 with 1 Axes>"
      ]
     },
     "metadata": {
      "needs_background": "light"
     },
     "output_type": "display_data"
    }
   ],
   "source": [
    "from sklearn.metrics import confusion_matrix\n",
    "conf_mat = confusion_matrix(y_teste, previsao)\n",
    "sns.heatmap(conf_mat, annot=True, fmt='d', cbar=False)\n",
    "plt.xlabel('Predicted')\n",
    "plt.ylabel('Actual')\n",
    "plt.title('Confusion Matrix')\n",
    "plt.show()"
   ]
  },
  {
   "cell_type": "code",
   "execution_count": null,
   "metadata": {},
   "outputs": [],
   "source": []
  }
 ],
 "metadata": {
  "kernelspec": {
   "display_name": "Python 3",
   "language": "python",
   "name": "python3"
  },
  "language_info": {
   "codemirror_mode": {
    "name": "ipython",
    "version": 3
   },
   "file_extension": ".py",
   "mimetype": "text/x-python",
   "name": "python",
   "nbconvert_exporter": "python",
   "pygments_lexer": "ipython3",
   "version": "3.6.10"
  }
 },
 "nbformat": 4,
 "nbformat_minor": 4
}
