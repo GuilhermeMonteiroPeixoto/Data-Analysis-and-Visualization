{
 "cells": [
  {
   "cell_type": "code",
   "execution_count": 1,
   "metadata": {},
   "outputs": [
    {
     "name": "stdout",
     "output_type": "stream",
     "text": [
      "Collecting tqdm\n",
      "  Downloading tqdm-4.60.0-py2.py3-none-any.whl (75 kB)\n",
      "\u001b[K     |████████████████████████████████| 75 kB 2.8 MB/s eta 0:00:011\n",
      "\u001b[?25hInstalling collected packages: tqdm\n",
      "Successfully installed tqdm-4.60.0\n"
     ]
    }
   ],
   "source": [
    "!pip install tqdm"
   ]
  },
  {
   "cell_type": "code",
   "execution_count": 20,
   "metadata": {},
   "outputs": [
    {
     "name": "stderr",
     "output_type": "stream",
     "text": [
      "/srv/conda/envs/notebook/lib/python3.6/site-packages/ipykernel_launcher.py:3: TqdmDeprecationWarning: Please use `tqdm.notebook.trange` instead of `tqdm.tnrange`\n",
      "  This is separate from the ipykernel package so we can avoid doing imports until\n"
     ]
    },
    {
     "data": {
      "application/vnd.jupyter.widget-view+json": {
       "model_id": "1a3423f676cf4307b75b3d12978096a4",
       "version_major": 2,
       "version_minor": 0
      },
      "text/plain": [
       "Loop A:   0%|          | 0/5 [00:00<?, ?it/s]"
      ]
     },
     "metadata": {},
     "output_type": "display_data"
    },
    {
     "name": "stderr",
     "output_type": "stream",
     "text": [
      "/srv/conda/envs/notebook/lib/python3.6/site-packages/ipykernel_launcher.py:4: TqdmDeprecationWarning: Please use `tqdm.notebook.trange` instead of `tqdm.tnrange`\n",
      "  after removing the cwd from sys.path.\n",
      "Exception ignored in: <bound method tqdm.__del__ of <tqdm.notebook.tqdm_notebook object at 0x7f9af2e74860>>\n",
      "Traceback (most recent call last):\n",
      "  File \"/srv/conda/envs/notebook/lib/python3.6/site-packages/tqdm/std.py\", line 1145, in __del__\n",
      "    self.close()\n",
      "  File \"/srv/conda/envs/notebook/lib/python3.6/site-packages/tqdm/notebook.py\", line 283, in close\n",
      "    self.disp(bar_style='danger', check_delay=False)\n",
      "AttributeError: 'tqdm_notebook' object has no attribute 'disp'\n"
     ]
    },
    {
     "data": {
      "application/vnd.jupyter.widget-view+json": {
       "model_id": "64aa7f33f4c746569d5ce080db010dac",
       "version_major": 2,
       "version_minor": 0
      },
      "text/plain": [
       "Loop B:   0%|          | 0/1000 [00:00<?, ?it/s]"
      ]
     },
     "metadata": {},
     "output_type": "display_data"
    },
    {
     "data": {
      "application/vnd.jupyter.widget-view+json": {
       "model_id": "a6eb36204a6841b884b277d118c63834",
       "version_major": 2,
       "version_minor": 0
      },
      "text/plain": [
       "Loop B:   0%|          | 0/1000 [00:00<?, ?it/s]"
      ]
     },
     "metadata": {},
     "output_type": "display_data"
    },
    {
     "data": {
      "application/vnd.jupyter.widget-view+json": {
       "model_id": "6ff0a3253e5b489cb16db2780d9d874b",
       "version_major": 2,
       "version_minor": 0
      },
      "text/plain": [
       "Loop B:   0%|          | 0/1000 [00:00<?, ?it/s]"
      ]
     },
     "metadata": {},
     "output_type": "display_data"
    },
    {
     "data": {
      "application/vnd.jupyter.widget-view+json": {
       "model_id": "8606f08a1c0c49f3aef5944c8759f4a5",
       "version_major": 2,
       "version_minor": 0
      },
      "text/plain": [
       "Loop B:   0%|          | 0/1000 [00:00<?, ?it/s]"
      ]
     },
     "metadata": {},
     "output_type": "display_data"
    },
    {
     "data": {
      "application/vnd.jupyter.widget-view+json": {
       "model_id": "630e5b3ea5be4422882c50bb5afd54e6",
       "version_major": 2,
       "version_minor": 0
      },
      "text/plain": [
       "Loop B:   0%|          | 0/1000 [00:00<?, ?it/s]"
      ]
     },
     "metadata": {},
     "output_type": "display_data"
    }
   ],
   "source": [
    "from tqdm import trange, tnrange, tqdm_notebook\n",
    "from time import sleep\n",
    "for i in tnrange(5, desc='Loop A'):\n",
    "    for j in tnrange(1000, desc='Loop B'):\n",
    "        sleep(0.01)"
   ]
  },
  {
   "cell_type": "code",
   "execution_count": 25,
   "metadata": {},
   "outputs": [
    {
     "name": "stderr",
     "output_type": "stream",
     "text": [
      "A:   0%|          | 0/2 [00:00<?, ?it/s]\n",
      "B:   0%|          | 0/100 [00:00<?, ?it/s]\u001b[A\n",
      "B:  10%|█         | 10/100 [00:00<00:00, 98.72it/s]\u001b[A\n",
      "B:  20%|██        | 20/100 [00:00<00:00, 97.51it/s]\u001b[A\n",
      "B:  30%|███       | 30/100 [00:00<00:00, 97.18it/s]\u001b[A\n",
      "B:  40%|████      | 40/100 [00:00<00:00, 96.92it/s]\u001b[A\n",
      "B:  50%|█████     | 50/100 [00:00<00:00, 96.95it/s]\u001b[A\n",
      "B:  60%|██████    | 60/100 [00:00<00:00, 97.02it/s]\u001b[A\n",
      "B:  70%|███████   | 70/100 [00:00<00:00, 97.08it/s]\u001b[A\n",
      "B:  80%|████████  | 80/100 [00:00<00:00, 97.21it/s]\u001b[A\n",
      "B:  90%|█████████ | 90/100 [00:00<00:00, 97.32it/s]\u001b[A\n",
      "B: 100%|██████████| 100/100 [00:01<00:00, 96.94it/s]\u001b[A\n",
      "A:  50%|█████     | 1/2 [00:01<00:01,  1.03s/it]\n",
      "B:   0%|          | 0/100 [00:00<?, ?it/s]\u001b[A\n",
      "B:  10%|█         | 10/100 [00:00<00:00, 99.08it/s]\u001b[A\n",
      "B:  20%|██        | 20/100 [00:00<00:00, 97.66it/s]\u001b[A\n",
      "B:  30%|███       | 30/100 [00:00<00:00, 97.30it/s]\u001b[A\n",
      "B:  40%|████      | 40/100 [00:00<00:00, 97.23it/s]\u001b[A\n",
      "B:  50%|█████     | 50/100 [00:00<00:00, 97.12it/s]\u001b[A\n",
      "B:  60%|██████    | 60/100 [00:00<00:00, 96.98it/s]\u001b[A\n",
      "B:  70%|███████   | 70/100 [00:00<00:00, 96.86it/s]\u001b[A\n",
      "B:  80%|████████  | 80/100 [00:00<00:00, 96.85it/s]\u001b[A\n",
      "B:  90%|█████████ | 90/100 [00:00<00:00, 96.91it/s]\u001b[A\n",
      "B: 100%|██████████| 100/100 [00:01<00:00, 96.86it/s]\u001b[A\n",
      "A: 100%|██████████| 2/2 [00:02<00:00,  1.04s/it]\n"
     ]
    }
   ],
   "source": [
    "from tqdm import trange\n",
    "for i in trange(2, desc='A'):\n",
    "    for j in trange(100, desc='B'):\n",
    "        sleep(0.01)"
   ]
  },
  {
   "cell_type": "code",
   "execution_count": null,
   "metadata": {},
   "outputs": [],
   "source": []
  }
 ],
 "metadata": {
  "kernelspec": {
   "display_name": "Python 3",
   "language": "python",
   "name": "python3"
  },
  "language_info": {
   "codemirror_mode": {
    "name": "ipython",
    "version": 3
   },
   "file_extension": ".py",
   "mimetype": "text/x-python",
   "name": "python",
   "nbconvert_exporter": "python",
   "pygments_lexer": "ipython3",
   "version": "3.6.11"
  }
 },
 "nbformat": 4,
 "nbformat_minor": 4
}
