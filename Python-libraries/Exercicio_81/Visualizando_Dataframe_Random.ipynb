{
 "cells": [
  {
   "cell_type": "code",
   "execution_count": 2,
   "metadata": {},
   "outputs": [],
   "source": [
    "import numpy as np\n",
    "import pandas as pd\n",
    "import matplotlib.pyplot as plt"
   ]
  },
  {
   "cell_type": "code",
   "execution_count": 9,
   "metadata": {},
   "outputs": [
    {
     "data": {
      "text/html": [
       "<div>\n",
       "<style scoped>\n",
       "    .dataframe tbody tr th:only-of-type {\n",
       "        vertical-align: middle;\n",
       "    }\n",
       "\n",
       "    .dataframe tbody tr th {\n",
       "        vertical-align: top;\n",
       "    }\n",
       "\n",
       "    .dataframe thead th {\n",
       "        text-align: right;\n",
       "    }\n",
       "</style>\n",
       "<table border=\"1\" class=\"dataframe\">\n",
       "  <thead>\n",
       "    <tr style=\"text-align: right;\">\n",
       "      <th></th>\n",
       "      <th>Unnamed: 0</th>\n",
       "      <th>Genero</th>\n",
       "      <th>Altura</th>\n",
       "      <th>Idade</th>\n",
       "      <th>Peso</th>\n",
       "    </tr>\n",
       "  </thead>\n",
       "  <tbody>\n",
       "    <tr>\n",
       "      <th>0</th>\n",
       "      <td>0</td>\n",
       "      <td>Masculino</td>\n",
       "      <td>1.521662</td>\n",
       "      <td>57</td>\n",
       "      <td>64.661697</td>\n",
       "    </tr>\n",
       "    <tr>\n",
       "      <th>1</th>\n",
       "      <td>1</td>\n",
       "      <td>Feminino</td>\n",
       "      <td>1.962166</td>\n",
       "      <td>37</td>\n",
       "      <td>42.396733</td>\n",
       "    </tr>\n",
       "    <tr>\n",
       "      <th>2</th>\n",
       "      <td>2</td>\n",
       "      <td>Feminino</td>\n",
       "      <td>1.844939</td>\n",
       "      <td>31</td>\n",
       "      <td>75.087131</td>\n",
       "    </tr>\n",
       "    <tr>\n",
       "      <th>3</th>\n",
       "      <td>3</td>\n",
       "      <td>Masculino</td>\n",
       "      <td>1.748321</td>\n",
       "      <td>57</td>\n",
       "      <td>91.360342</td>\n",
       "    </tr>\n",
       "    <tr>\n",
       "      <th>4</th>\n",
       "      <td>4</td>\n",
       "      <td>Feminino</td>\n",
       "      <td>1.780491</td>\n",
       "      <td>17</td>\n",
       "      <td>44.736218</td>\n",
       "    </tr>\n",
       "    <tr>\n",
       "      <th>...</th>\n",
       "      <td>...</td>\n",
       "      <td>...</td>\n",
       "      <td>...</td>\n",
       "      <td>...</td>\n",
       "      <td>...</td>\n",
       "    </tr>\n",
       "    <tr>\n",
       "      <th>95</th>\n",
       "      <td>95</td>\n",
       "      <td>Masculino</td>\n",
       "      <td>1.898396</td>\n",
       "      <td>54</td>\n",
       "      <td>99.352873</td>\n",
       "    </tr>\n",
       "    <tr>\n",
       "      <th>96</th>\n",
       "      <td>96</td>\n",
       "      <td>Masculino</td>\n",
       "      <td>1.985487</td>\n",
       "      <td>58</td>\n",
       "      <td>65.428613</td>\n",
       "    </tr>\n",
       "    <tr>\n",
       "      <th>97</th>\n",
       "      <td>97</td>\n",
       "      <td>Feminino</td>\n",
       "      <td>1.853467</td>\n",
       "      <td>55</td>\n",
       "      <td>72.025588</td>\n",
       "    </tr>\n",
       "    <tr>\n",
       "      <th>98</th>\n",
       "      <td>98</td>\n",
       "      <td>Masculino</td>\n",
       "      <td>1.708616</td>\n",
       "      <td>38</td>\n",
       "      <td>58.259215</td>\n",
       "    </tr>\n",
       "    <tr>\n",
       "      <th>99</th>\n",
       "      <td>99</td>\n",
       "      <td>Feminino</td>\n",
       "      <td>1.526493</td>\n",
       "      <td>32</td>\n",
       "      <td>99.568424</td>\n",
       "    </tr>\n",
       "  </tbody>\n",
       "</table>\n",
       "<p>100 rows × 5 columns</p>\n",
       "</div>"
      ],
      "text/plain": [
       "    Unnamed: 0     Genero    Altura  Idade       Peso\n",
       "0            0  Masculino  1.521662     57  64.661697\n",
       "1            1   Feminino  1.962166     37  42.396733\n",
       "2            2   Feminino  1.844939     31  75.087131\n",
       "3            3  Masculino  1.748321     57  91.360342\n",
       "4            4   Feminino  1.780491     17  44.736218\n",
       "..         ...        ...       ...    ...        ...\n",
       "95          95  Masculino  1.898396     54  99.352873\n",
       "96          96  Masculino  1.985487     58  65.428613\n",
       "97          97   Feminino  1.853467     55  72.025588\n",
       "98          98  Masculino  1.708616     38  58.259215\n",
       "99          99   Feminino  1.526493     32  99.568424\n",
       "\n",
       "[100 rows x 5 columns]"
      ]
     },
     "execution_count": 9,
     "metadata": {},
     "output_type": "execute_result"
    }
   ],
   "source": [
    "df = pd.read_csv('cadastro.csv')\n",
    "df"
   ]
  },
  {
   "cell_type": "code",
   "execution_count": 4,
   "metadata": {},
   "outputs": [
    {
     "data": {
      "image/png": "[encoded data removed]",
      "text/plain": [
       "<Figure size 1080x432 with 1 Axes>"
      ]
     },
     "metadata": {
      "needs_background": "light"
     },
     "output_type": "display_data"
    }
   ],
   "source": [
    "plt.figure(figsize=(15,6))\n",
    "plt.scatter(x=df['Altura'], y=df['Peso'], color='crimson', alpha=0.5)\n",
    "plt.title('Altura/ Peso', weight='bold', fontsize=16)\n",
    "plt.xlabel('Altura(m)', weight='bold', fontsize=12)\n",
    "plt.ylabel('Peso(kg)', weight='bold', fontsize=12)\n",
    "plt.xticks(weight='bold')\n",
    "plt.yticks(weight='bold')\n",
    "plt.show()"
   ]
  },
  {
   "cell_type": "code",
   "execution_count": 5,
   "metadata": {},
   "outputs": [],
   "source": [
    "grouped_genero = df[['Altura','Peso','Idade']].groupby(df['Genero'])"
   ]
  },
  {
   "cell_type": "code",
   "execution_count": 6,
   "metadata": {},
   "outputs": [],
   "source": [
    "aux = np.array(df['Genero'].unique())\n",
    "aux = sorted(aux)"
   ]
  },
  {
   "cell_type": "code",
   "execution_count": 7,
   "metadata": {},
   "outputs": [],
   "source": [
    "media_peso = np.array(grouped_genero['Peso'].mean())\n",
    "media_idade = np.array(grouped_genero['Idade'].mean())"
   ]
  },
  {
   "cell_type": "code",
   "execution_count": 8,
   "metadata": {},
   "outputs": [
    {
     "data": {
      "image/png": "[encoded data removed]",
      "text/plain": [
       "<Figure size 432x288 with 1 Axes>"
      ]
     },
     "metadata": {
      "needs_background": "light"
     },
     "output_type": "display_data"
    }
   ],
   "source": [
    "plt.bar(aux, media_peso , label = 'Peso Médio', color = 'r')\n",
    "plt.bar(aux, media_idade , label = 'Idade Média', color = 'b')\n",
    "plt.legend(loc='lower left')\n",
    "plt.show()"
   ]
  },
  {
   "cell_type": "code",
   "execution_count": null,
   "metadata": {},
   "outputs": [],
   "source": []
  }
 ],
 "metadata": {
  "kernelspec": {
   "display_name": "Python 3",
   "language": "python",
   "name": "python3"
  },
  "language_info": {
   "codemirror_mode": {
    "name": "ipython",
    "version": 3
   },
   "file_extension": ".py",
   "mimetype": "text/x-python",
   "name": "python",
   "nbconvert_exporter": "python",
   "pygments_lexer": "ipython3",
   "version": "3.6.10"
  }
 },
 "nbformat": 4,
 "nbformat_minor": 4
}
